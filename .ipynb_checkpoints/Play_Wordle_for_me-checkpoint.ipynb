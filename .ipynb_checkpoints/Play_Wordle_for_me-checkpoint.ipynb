{
 "cells": [
  {
   "cell_type": "code",
   "execution_count": null,
   "id": "5585eb43-93ca-4dff-a276-1ae760528c28",
   "metadata": {
    "scrolled": true
   },
   "outputs": [
    {
     "name": "stdout",
     "output_type": "stream",
     "text": [
      "\n",
      "Attempt 1/5\n"
     ]
    },
    {
     "name": "stdin",
     "output_type": "stream",
     "text": [
      "Enter your guessed word (5 letters):  hands\n",
      "Enter color feedback (G=Green, Y=Yellow, X=Gray) e.g. GXYYX:  GXXXX\n"
     ]
    },
    {
     "name": "stdout",
     "output_type": "stream",
     "text": [
      "\n",
      "Suggested words:\n",
      "HUTRE, HECCO, HOUVE, HUMET, HELIO, HUMIC, HILUM, HOUGH, HEXYL, HOOCH\n",
      "\n",
      "Attempt 2/5\n"
     ]
    },
    {
     "name": "stdin",
     "output_type": "stream",
     "text": [
      "Enter your guessed word (5 letters):  BOLDS\n"
     ]
    },
    {
     "name": "stdout",
     "output_type": "stream",
     "text": [
      "Invalid word. Try again.\n",
      "\n",
      "Attempt 3/5\n"
     ]
    },
    {
     "name": "stdin",
     "output_type": "stream",
     "text": [
      "Enter your guessed word (5 letters):  HUTRE\n",
      "Enter color feedback (G=Green, Y=Yellow, X=Gray) e.g. GXYYX:  GXXXX\n"
     ]
    },
    {
     "name": "stdout",
     "output_type": "stream",
     "text": [
      "\n",
      "Suggested words:\n",
      "HILLY, HOOFY, HOPPO, HOOCH, HOLLO, HOICK, HOLLY, HYPHO, HICKY, HOCKY\n",
      "\n",
      "Attempt 4/5\n"
     ]
    },
    {
     "name": "stdin",
     "output_type": "stream",
     "text": [
      "Enter your guessed word (5 letters):  HILLY\n",
      "Enter color feedback (G=Green, Y=Yellow, X=Gray) e.g. GXYYX:  GXXXG\n"
     ]
    },
    {
     "name": "stdout",
     "output_type": "stream",
     "text": [
      "\n",
      "Suggested words:\n",
      "HOBBY, HOOFY, HOOKY, HOCKY, HOGGY, HOPPY\n",
      "\n",
      "Attempt 5/5\n"
     ]
    },
    {
     "name": "stdin",
     "output_type": "stream",
     "text": [
      "Enter your guessed word (5 letters):  as\n"
     ]
    }
   ],
   "source": [
    "import csv\n",
    "\n",
    "# Load word list from CSV\n",
    "def load_word_list(csv_filename):\n",
    "    \"\"\"Load 5-letter words from CSV into a set for fast filtering.\"\"\"\n",
    "    words = set()\n",
    "    with open(csv_filename, \"r\", encoding=\"utf-8\") as file:\n",
    "        reader = csv.reader(file)\n",
    "        for row in reader:\n",
    "            if row and len(row[0]) == 5:\n",
    "                words.add(row[0].strip().upper())  # Store words in uppercase\n",
    "    return words\n",
    "\n",
    "# Filter words based on user input\n",
    "def filter_words(word_list, guesses):\n",
    "    \"\"\"Filter the word list based on past guesses and feedback.\"\"\"\n",
    "    filtered_words = word_list.copy()\n",
    "    \n",
    "    for word, colors in guesses:\n",
    "        new_filtered = set()\n",
    "        for w in filtered_words:\n",
    "            match = True\n",
    "            for i in range(5):\n",
    "                if colors[i] == \"G\" and w[i] != word[i]:  # Green = exact match\n",
    "                    match = False\n",
    "                elif colors[i] == \"X\" and word[i] in w:  # Gray = should not be in word\n",
    "                    match = False\n",
    "                elif colors[i] == \"Y\" and (word[i] not in w or w[i] == word[i]):  # Yellow = must be present but in different position\n",
    "                    match = False\n",
    "            if match:\n",
    "                new_filtered.add(w)\n",
    "        filtered_words = new_filtered\n",
    "\n",
    "    return filtered_words\n",
    "\n",
    "# Main game loop\n",
    "def wordle_solver():\n",
    "    \"\"\"Console-based Wordle solver\"\"\"\n",
    "    word_list = load_word_list(\"output2.csv\")\n",
    "    guesses = []\n",
    "\n",
    "    for attempt in range(5):\n",
    "        print(f\"\\nAttempt {attempt + 1}/5\")\n",
    "        word = input(\"Enter your guessed word (5 letters): \").strip().upper()\n",
    "        \n",
    "        if len(word) != 5 or word not in word_list:\n",
    "            print(\"Invalid word. Try again.\")\n",
    "            continue  # Retry the same attempt\n",
    "\n",
    "        colors = input(\"Enter color feedback (G=Green, Y=Yellow, X=Gray) e.g. GXYYX: \").strip().upper()\n",
    "\n",
    "        if len(colors) != 5 or any(c not in \"GYX\" for c in colors):\n",
    "            print(\"Invalid color input. Use G, Y, or X.\")\n",
    "            continue  # Retry the same attempt\n",
    "\n",
    "        guesses.append((word, colors))  # Store guess history\n",
    "        word_list = filter_words(word_list, guesses)  # Filter word list\n",
    "\n",
    "        if len(word_list) == 0:\n",
    "            print(\"No possible words found. Check your inputs!\")\n",
    "            break\n",
    "\n",
    "        print(\"\\nSuggested words:\")\n",
    "        print(\", \".join(list(word_list)[:10]))  # Show top 10 suggestions\n",
    "\n",
    "    print(\"\\nGame Over! If you didn't solve it, try different guesses next time.\")\n",
    "\n",
    "# Run the program\n",
    "wordle_solver()\n"
   ]
  },
  {
   "cell_type": "code",
   "execution_count": 117,
   "id": "71a778dc-a2d6-4eb7-8e08-923261b375e3",
   "metadata": {},
   "outputs": [
    {
     "name": "stdout",
     "output_type": "stream",
     "text": [
      "       aahed\n",
      "31     abele\n",
      "40     abilo\n",
      "85     acale\n",
      "113    acyls\n",
      "126    acold\n",
      "...      ...\n",
      "15778  wurly\n",
      "15828  zeals\n",
      "15856  zilla\n",
      "15857  zills\n",
      "15894  zolle\n",
      "\n",
      "[923 rows x 1 columns]\n"
     ]
    }
   ],
   "source": [
    "import pandas as pd\n",
    "\n",
    "def get_filtered_words(input_word, condition):\n",
    "    df = pd.read_csv(\"output2.csv\")\n",
    "\n",
    "    filtered_df = df\n",
    "    \n",
    "    # Apply conditions dynamically\n",
    "    for i in range(5):  # Loop through each letter position\n",
    "        if condition[i] == \"G\":  # If condition requires matching input_word[i]\n",
    "            filtered_df = filtered_df[filtered_df['aahed'].apply(lambda x: x[i] == input_word[i])]\n",
    "    \n",
    "    print(filtered_df)\n",
    "\n",
    "\n",
    "\n",
    "\n",
    "get_filtered_words(\"hello\",\"XXXGX\")"
   ]
  },
  {
   "cell_type": "code",
   "execution_count": null,
   "id": "bd8e41ae-09d1-4cf6-8878-0e57066c41ad",
   "metadata": {},
   "outputs": [],
   "source": []
  }
 ],
 "metadata": {
  "kernelspec": {
   "display_name": "Python [conda env:base] *",
   "language": "python",
   "name": "conda-base-py"
  },
  "language_info": {
   "codemirror_mode": {
    "name": "ipython",
    "version": 3
   },
   "file_extension": ".py",
   "mimetype": "text/x-python",
   "name": "python",
   "nbconvert_exporter": "python",
   "pygments_lexer": "ipython3",
   "version": "3.12.2"
  }
 },
 "nbformat": 4,
 "nbformat_minor": 5
}
