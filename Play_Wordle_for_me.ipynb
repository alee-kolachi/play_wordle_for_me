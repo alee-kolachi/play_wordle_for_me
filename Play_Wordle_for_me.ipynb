{
 "cells": [
  {
   "cell_type": "code",
   "execution_count": null,
   "id": "72d142b8-2e72-40f3-8309-7c8263477759",
   "metadata": {},
   "outputs": [
    {
     "name": "stdin",
     "output_type": "stream",
     "text": [
      "Letters:  10\n",
      "Chances:  6\n"
     ]
    },
    {
     "name": "stdout",
     "output_type": "stream",
     "text": [
      "        words\n",
      "0  aardwolves\n",
      "1  Aaronsburg\n",
      "2  abacterial\n",
      "3  abalienate\n",
      "4  abandoners\n"
     ]
    },
    {
     "name": "stdin",
     "output_type": "stream",
     "text": [
      "Enter a 10-letter word:  mayonnaise\n",
      "Enter condition (only G, X, Y):  xyxyyyygxy\n"
     ]
    },
    {
     "name": "stdout",
     "output_type": "stream",
     "text": [
      "Remaining words: 250\n",
      "            words\n",
      "16005  Froebelian\n",
      "28523  overeating\n",
      "14305  exaltation\n",
      "28206  outleaping\n",
      "43561  ulceration\n",
      "16463  generation\n",
      "35013  relaxation\n",
      "28737  overrating\n",
      "14242  evaluation\n",
      "17935  hebetation\n",
      "14890  februation\n",
      "13801  epizoarian\n",
      "14317  excalation\n",
      "19350  iceboating\n",
      "26745  nonleaking\n",
      "          words\n",
      "33   Aberdonian\n",
      "38   aberration\n",
      "65   ablegation\n",
      "72   abnegation\n",
      "100  abreaction\n"
     ]
    },
    {
     "name": "stdin",
     "output_type": "stream",
     "text": [
      "Enter a 10-letter word:  relaxation\n",
      "Enter condition (only G, X, Y):  yyyyxggggg\n"
     ]
    },
    {
     "name": "stdout",
     "output_type": "stream",
     "text": [
      "Remaining words: 6\n",
      "            words\n",
      "9324   corelation\n",
      "22444  liberation\n",
      "21025  irrelation\n",
      "22702  literation\n",
      "1281   alteration\n",
      "43561  ulceration\n",
      "            words\n",
      "1281   alteration\n",
      "9324   corelation\n",
      "21025  irrelation\n",
      "22444  liberation\n",
      "22702  literation\n"
     ]
    },
    {
     "name": "stdin",
     "output_type": "stream",
     "text": [
      "Enter a 10-letter word:  literation\n",
      "Enter condition (only G, X, Y):  yygggggggg\n"
     ]
    },
    {
     "name": "stdout",
     "output_type": "stream",
     "text": [
      "Remaining words: 1\n",
      "           words\n",
      "1281  alteration\n",
      "           words\n",
      "1281  alteration\n"
     ]
    }
   ],
   "source": [
    "import pandas as pd\n",
    "\n",
    "df = pd.read_csv(\"words.csv\", header=None, names=[\"words\"])\n",
    "df = df.dropna()\n",
    "\n",
    "df = df[~df[\"words\"].str.isupper()]\n",
    "df = df[df[\"words\"].str.len() >= 4]\n",
    "df = df[df[\"words\"].str.match(\"^[a-zA-Z]+$\")]\n",
    "\n",
    "def get_filtered_words(filtered_df, input_word, condition, letter_count):\n",
    "    # Apply conditions dynamically\n",
    "    for i in range(letter_count):# Loop through each letter position\n",
    "        #print(filtered_df.head())\n",
    "        if condition[i].lower() == \"g\":  # If 'G', match exact position\n",
    "            filtered_df = filtered_df[filtered_df['words'].apply(lambda x: x.lower()[i] == input_word[i].lower())]\n",
    "    \n",
    "        elif condition[i].lower() == \"y\":  # If 'Y', input_word[i] must be anywhere in x but **not at the same position**\n",
    "            filtered_df = filtered_df[\n",
    "                filtered_df['words'].apply(lambda x: input_word[i].lower() in x.lower() and x.lower()[i] != input_word[i].lower())\n",
    "            ]\n",
    "    \n",
    "        elif condition[i].lower() == \"x\":  # If 'X', input_word[i] must **not** be in x at any position\n",
    "            filtered_df = filtered_df[filtered_df['words'].apply(lambda x: input_word[i].lower() not in x.lower())]\n",
    "    return filtered_df  # Return updated dataframe\n",
    "\n",
    "# Function to take validated input\n",
    "def get_valid_input(prompt, valid_length, valid_chars=None):\n",
    "    while True:\n",
    "        user_input = input(prompt).strip()  # Remove extra spaces\n",
    "        if len(user_input) != valid_length:\n",
    "            print(f\"⚠ Error: Input must be exactly {valid_length} characters. Try again.\")\n",
    "            continue\n",
    "        if valid_chars and any(c not in valid_chars for c in user_input):\n",
    "            print(f\"⚠ Error: Invalid character found! Allowed characters: {''.join(valid_chars)}. Try again.\")\n",
    "            continue\n",
    "        return user_input  # Return valid input\n",
    "\n",
    "\n",
    "letter_count = int(input(\"Letters: \"))\n",
    "chances = int(input(\"Chances: \"))\n",
    "df = df[df[\"words\"].str.len() == letter_count]\n",
    "# Reset index\n",
    "df = df.reset_index(drop=True)\n",
    "filtered_df = df.copy()\n",
    "\n",
    "# Run the function 5 times with validated input\n",
    "for _ in range(chances):\n",
    "    print(filtered_df.head())\n",
    "    user_word = get_valid_input(f\"Enter a {letter_count}-letter word: \", letter_count)  # Validate word length\n",
    "    user_condition = get_valid_input(\"Enter condition (only G, X, Y): \", letter_count, {\"G\", \"X\", \"Y\", \"g\", \"x\", \"y\"})  # Validate condition\n",
    "    filtered_df = get_filtered_words(filtered_df, user_word.lower(), user_condition, letter_count)  # Update filtered_df\n",
    "    print(f\"Remaining words: {len(filtered_df)}\")\n",
    "    print(filtered_df.sample(min(len(filtered_df), 15))) "
   ]
  },
  {
   "cell_type": "code",
   "execution_count": null,
   "id": "c098b26d-b0dc-4452-9fbc-171332dd4d60",
   "metadata": {},
   "outputs": [],
   "source": []
  },
  {
   "cell_type": "code",
   "execution_count": null,
   "id": "9b24608e-9024-463c-8e94-740d9cbd0c86",
   "metadata": {},
   "outputs": [],
   "source": []
  },
  {
   "cell_type": "code",
   "execution_count": null,
   "id": "0fba1013-8204-4319-ae5d-fc4f1a6dd5e1",
   "metadata": {},
   "outputs": [],
   "source": []
  }
 ],
 "metadata": {
  "kernelspec": {
   "display_name": "Python [conda env:base] *",
   "language": "python",
   "name": "conda-base-py"
  },
  "language_info": {
   "codemirror_mode": {
    "name": "ipython",
    "version": 3
   },
   "file_extension": ".py",
   "mimetype": "text/x-python",
   "name": "python",
   "nbconvert_exporter": "python",
   "pygments_lexer": "ipython3",
   "version": "3.12.2"
  }
 },
 "nbformat": 4,
 "nbformat_minor": 5
}
