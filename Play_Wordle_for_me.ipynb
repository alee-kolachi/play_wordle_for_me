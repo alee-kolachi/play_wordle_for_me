{
 "cells": [
  {
   "cell_type": "code",
   "execution_count": 14,
   "id": "71a778dc-a2d6-4eb7-8e08-923261b375e3",
   "metadata": {},
   "outputs": [
    {
     "name": "stdout",
     "output_type": "stream",
     "text": [
      "      aahed\n",
      "6224  hallo\n",
      "6261  haole\n",
      "6385  hello\n",
      "6484  hillo\n",
      "6558  hoyle\n",
      "6575  holla\n",
      "6576  holly\n",
      "6577  hollo\n",
      "6609  hooly\n",
      "6628  horla\n",
      "6646  hotly\n",
      "6649  hoult\n",
      "6667  howls\n",
      "6687  hullo\n"
     ]
    }
   ],
   "source": [
    "import pandas as pd\n",
    "\n",
    "def get_filtered_words(input_word, condition):\n",
    "    df = pd.read_csv(\"5_letter_words.csv\")\n",
    "\n",
    "    filtered_df = df\n",
    "    \n",
    "    # Apply conditions dynamically\n",
    "    for i in range(5):  # Loop through each letter position\n",
    "        if condition[i] == \"G\":  # If 'G', match exact position\n",
    "            filtered_df = filtered_df[filtered_df['aahed'].apply(lambda x: x[i] == input_word[i])]\n",
    "        elif condition[i] == \"Y\":  # If 'Y', input_word[i] must be anywhere in x\n",
    "            filtered_df = filtered_df[filtered_df['aahed'].apply(lambda x: input_word[i] in x)]\n",
    "    \n",
    "    print(filtered_df)\n",
    "\n",
    "\n",
    "\n",
    "\n",
    "get_filtered_words(\"hello\",\"GXXGY\")"
   ]
  },
  {
   "cell_type": "code",
   "execution_count": null,
   "id": "bd8e41ae-09d1-4cf6-8878-0e57066c41ad",
   "metadata": {},
   "outputs": [],
   "source": []
  }
 ],
 "metadata": {
  "kernelspec": {
   "display_name": "Python [conda env:base] *",
   "language": "python",
   "name": "conda-base-py"
  },
  "language_info": {
   "codemirror_mode": {
    "name": "ipython",
    "version": 3
   },
   "file_extension": ".py",
   "mimetype": "text/x-python",
   "name": "python",
   "nbconvert_exporter": "python",
   "pygments_lexer": "ipython3",
   "version": "3.12.2"
  }
 },
 "nbformat": 4,
 "nbformat_minor": 5
}
