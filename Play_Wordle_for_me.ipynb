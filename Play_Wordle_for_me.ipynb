{
 "cells": [
  {
   "cell_type": "code",
   "execution_count": 2,
   "id": "72d142b8-2e72-40f3-8309-7c8263477759",
   "metadata": {},
   "outputs": [
    {
     "name": "stdin",
     "output_type": "stream",
     "text": [
      "Letters:  5\n",
      "Chances:  6\n",
      "Enter a 5-letter word:  cents\n",
      "Enter condition (only G, X, Y):  yxxyx\n"
     ]
    },
    {
     "name": "stdout",
     "output_type": "stream",
     "text": [
      "Remaining words: 131\n",
      "       words\n",
      "14504  patch\n",
      "18668  tacky\n",
      "13843  octad\n",
      "5607   ducat\n",
      "500    aitch\n",
      "19498  torch\n",
      "19672  trock\n",
      "5118   dicht\n",
      "13069  mulct\n",
      "19854  twick\n",
      "19702  truck\n",
      "19798  Turco\n",
      "20809  watch\n",
      "19222  ticca\n",
      "15204  potch\n"
     ]
    },
    {
     "name": "stdin",
     "output_type": "stream",
     "text": [
      "Enter a 5-letter word:  tiger\n",
      "Enter condition (only G, X, Y):  yxxxx\n"
     ]
    },
    {
     "name": "stdout",
     "output_type": "stream",
     "text": [
      "Remaining words: 32\n",
      "       words\n",
      "1918   batch\n",
      "20611  vocat\n",
      "9023   hutch\n",
      "8912   hotch\n",
      "13844  octal\n",
      "20247  utchy\n",
      "10924  Kutch\n",
      "14307  Pacht\n",
      "12977  Motch\n",
      "13147  mutch\n",
      "5722   Dutch\n",
      "5607   ducat\n",
      "15204  potch\n",
      "12297  match\n",
      "14504  patch\n"
     ]
    },
    {
     "name": "stdin",
     "output_type": "stream",
     "text": [
      "Enter a 5-letter word:  atoms\n",
      "Enter condition (only G, X, Y):  yyxxx\n"
     ]
    },
    {
     "name": "stdout",
     "output_type": "stream",
     "text": [
      "Remaining words: 12\n",
      "       words\n",
      "14504  patch\n",
      "5607   ducat\n",
      "14307  Pacht\n",
      "8412   Hatch\n",
      "4799   datch\n",
      "11119  latch\n",
      "9036   yacht\n",
      "9718   jacht\n",
      "20809  watch\n",
      "1918   batch\n",
      "9644   Yucat\n",
      "8210   hacht\n"
     ]
    },
    {
     "name": "stdin",
     "output_type": "stream",
     "text": [
      "Enter a 5-letter word:  adopt\n",
      "Enter condition (only G, X, Y):  yxxxy\n"
     ]
    },
    {
     "name": "stdout",
     "output_type": "stream",
     "text": [
      "Remaining words: 4\n",
      "       words\n",
      "8412   Hatch\n",
      "20809  watch\n",
      "11119  latch\n",
      "1918   batch\n"
     ]
    },
    {
     "name": "stdin",
     "output_type": "stream",
     "text": [
      "Enter a 5-letter word:  batch\n",
      "Enter condition (only G, X, Y):  xgggg\n"
     ]
    },
    {
     "name": "stdout",
     "output_type": "stream",
     "text": [
      "Remaining words: 3\n",
      "       words\n",
      "8412   Hatch\n",
      "11119  latch\n",
      "20809  watch\n"
     ]
    },
    {
     "name": "stdin",
     "output_type": "stream",
     "text": [
      "Enter a 5-letter word:  hatch\n",
      "Enter condition (only G, X, Y):  xgggg\n"
     ]
    },
    {
     "ename": "KeyError",
     "evalue": "'words'",
     "output_type": "error",
     "traceback": [
      "\u001b[0;31m---------------------------------------------------------------------------\u001b[0m",
      "\u001b[0;31mKeyError\u001b[0m                                  Traceback (most recent call last)",
      "File \u001b[0;32m/opt/anaconda3/lib/python3.12/site-packages/pandas/core/indexes/base.py:3805\u001b[0m, in \u001b[0;36mIndex.get_loc\u001b[0;34m(self, key)\u001b[0m\n\u001b[1;32m   3804\u001b[0m \u001b[38;5;28;01mtry\u001b[39;00m:\n\u001b[0;32m-> 3805\u001b[0m     \u001b[38;5;28;01mreturn\u001b[39;00m \u001b[38;5;28mself\u001b[39m\u001b[38;5;241m.\u001b[39m_engine\u001b[38;5;241m.\u001b[39mget_loc(casted_key)\n\u001b[1;32m   3806\u001b[0m \u001b[38;5;28;01mexcept\u001b[39;00m \u001b[38;5;167;01mKeyError\u001b[39;00m \u001b[38;5;28;01mas\u001b[39;00m err:\n",
      "File \u001b[0;32mindex.pyx:167\u001b[0m, in \u001b[0;36mpandas._libs.index.IndexEngine.get_loc\u001b[0;34m()\u001b[0m\n",
      "File \u001b[0;32mindex.pyx:196\u001b[0m, in \u001b[0;36mpandas._libs.index.IndexEngine.get_loc\u001b[0;34m()\u001b[0m\n",
      "File \u001b[0;32mpandas/_libs/hashtable_class_helper.pxi:7081\u001b[0m, in \u001b[0;36mpandas._libs.hashtable.PyObjectHashTable.get_item\u001b[0;34m()\u001b[0m\n",
      "File \u001b[0;32mpandas/_libs/hashtable_class_helper.pxi:7089\u001b[0m, in \u001b[0;36mpandas._libs.hashtable.PyObjectHashTable.get_item\u001b[0;34m()\u001b[0m\n",
      "\u001b[0;31mKeyError\u001b[0m: 'words'",
      "\nThe above exception was the direct cause of the following exception:\n",
      "\u001b[0;31mKeyError\u001b[0m                                  Traceback (most recent call last)",
      "Cell \u001b[0;32mIn[2], line 50\u001b[0m\n\u001b[1;32m     48\u001b[0m user_word \u001b[38;5;241m=\u001b[39m get_valid_input(\u001b[38;5;124mf\u001b[39m\u001b[38;5;124m\"\u001b[39m\u001b[38;5;124mEnter a \u001b[39m\u001b[38;5;132;01m{\u001b[39;00mletter_count\u001b[38;5;132;01m}\u001b[39;00m\u001b[38;5;124m-letter word: \u001b[39m\u001b[38;5;124m\"\u001b[39m, letter_count)  \u001b[38;5;66;03m# Validate word length\u001b[39;00m\n\u001b[1;32m     49\u001b[0m user_condition \u001b[38;5;241m=\u001b[39m get_valid_input(\u001b[38;5;124m\"\u001b[39m\u001b[38;5;124mEnter condition (only G, X, Y): \u001b[39m\u001b[38;5;124m\"\u001b[39m, letter_count, {\u001b[38;5;124m\"\u001b[39m\u001b[38;5;124mG\u001b[39m\u001b[38;5;124m\"\u001b[39m, \u001b[38;5;124m\"\u001b[39m\u001b[38;5;124mX\u001b[39m\u001b[38;5;124m\"\u001b[39m, \u001b[38;5;124m\"\u001b[39m\u001b[38;5;124mY\u001b[39m\u001b[38;5;124m\"\u001b[39m, \u001b[38;5;124m\"\u001b[39m\u001b[38;5;124mg\u001b[39m\u001b[38;5;124m\"\u001b[39m, \u001b[38;5;124m\"\u001b[39m\u001b[38;5;124mx\u001b[39m\u001b[38;5;124m\"\u001b[39m, \u001b[38;5;124m\"\u001b[39m\u001b[38;5;124my\u001b[39m\u001b[38;5;124m\"\u001b[39m})  \u001b[38;5;66;03m# Validate condition\u001b[39;00m\n\u001b[0;32m---> 50\u001b[0m filtered_df \u001b[38;5;241m=\u001b[39m get_filtered_words(filtered_df, user_word\u001b[38;5;241m.\u001b[39mlower(), user_condition, letter_count)  \u001b[38;5;66;03m# Update filtered_df\u001b[39;00m\n\u001b[1;32m     51\u001b[0m \u001b[38;5;28mprint\u001b[39m(\u001b[38;5;124mf\u001b[39m\u001b[38;5;124m\"\u001b[39m\u001b[38;5;124mRemaining words: \u001b[39m\u001b[38;5;132;01m{\u001b[39;00m\u001b[38;5;28mlen\u001b[39m(filtered_df)\u001b[38;5;132;01m}\u001b[39;00m\u001b[38;5;124m\"\u001b[39m)\n\u001b[1;32m     52\u001b[0m \u001b[38;5;28mprint\u001b[39m(filtered_df\u001b[38;5;241m.\u001b[39msample(\u001b[38;5;28mmin\u001b[39m(\u001b[38;5;28mlen\u001b[39m(filtered_df), \u001b[38;5;241m15\u001b[39m)))\n",
      "Cell \u001b[0;32mIn[2], line 15\u001b[0m, in \u001b[0;36mget_filtered_words\u001b[0;34m(filtered_df, input_word, condition, letter_count)\u001b[0m\n\u001b[1;32m     12\u001b[0m \u001b[38;5;28;01mfor\u001b[39;00m i \u001b[38;5;129;01min\u001b[39;00m \u001b[38;5;28mrange\u001b[39m(letter_count):\u001b[38;5;66;03m# Loop through each letter position\u001b[39;00m\n\u001b[1;32m     13\u001b[0m     \u001b[38;5;66;03m#print(filtered_df.head())\u001b[39;00m\n\u001b[1;32m     14\u001b[0m     \u001b[38;5;28;01mif\u001b[39;00m condition[i]\u001b[38;5;241m.\u001b[39mlower() \u001b[38;5;241m==\u001b[39m \u001b[38;5;124m\"\u001b[39m\u001b[38;5;124mg\u001b[39m\u001b[38;5;124m\"\u001b[39m:  \u001b[38;5;66;03m# If 'G', match exact position\u001b[39;00m\n\u001b[0;32m---> 15\u001b[0m         filtered_df \u001b[38;5;241m=\u001b[39m filtered_df[filtered_df[\u001b[38;5;124m'\u001b[39m\u001b[38;5;124mwords\u001b[39m\u001b[38;5;124m'\u001b[39m]\u001b[38;5;241m.\u001b[39mapply(\u001b[38;5;28;01mlambda\u001b[39;00m x: x\u001b[38;5;241m.\u001b[39mlower()[i] \u001b[38;5;241m==\u001b[39m input_word[i]\u001b[38;5;241m.\u001b[39mlower())]\n\u001b[1;32m     17\u001b[0m     \u001b[38;5;28;01melif\u001b[39;00m condition[i]\u001b[38;5;241m.\u001b[39mlower() \u001b[38;5;241m==\u001b[39m \u001b[38;5;124m\"\u001b[39m\u001b[38;5;124my\u001b[39m\u001b[38;5;124m\"\u001b[39m:  \u001b[38;5;66;03m# If 'Y', input_word[i] must be anywhere in x but **not at the same position**\u001b[39;00m\n\u001b[1;32m     18\u001b[0m         filtered_df \u001b[38;5;241m=\u001b[39m filtered_df[\n\u001b[1;32m     19\u001b[0m             filtered_df[\u001b[38;5;124m'\u001b[39m\u001b[38;5;124mwords\u001b[39m\u001b[38;5;124m'\u001b[39m]\u001b[38;5;241m.\u001b[39mapply(\u001b[38;5;28;01mlambda\u001b[39;00m x: input_word[i]\u001b[38;5;241m.\u001b[39mlower() \u001b[38;5;129;01min\u001b[39;00m x\u001b[38;5;241m.\u001b[39mlower() \u001b[38;5;129;01mand\u001b[39;00m x\u001b[38;5;241m.\u001b[39mlower()[i] \u001b[38;5;241m!=\u001b[39m input_word[i]\u001b[38;5;241m.\u001b[39mlower())\n\u001b[1;32m     20\u001b[0m         ]\n",
      "File \u001b[0;32m/opt/anaconda3/lib/python3.12/site-packages/pandas/core/frame.py:4102\u001b[0m, in \u001b[0;36mDataFrame.__getitem__\u001b[0;34m(self, key)\u001b[0m\n\u001b[1;32m   4100\u001b[0m \u001b[38;5;28;01mif\u001b[39;00m \u001b[38;5;28mself\u001b[39m\u001b[38;5;241m.\u001b[39mcolumns\u001b[38;5;241m.\u001b[39mnlevels \u001b[38;5;241m>\u001b[39m \u001b[38;5;241m1\u001b[39m:\n\u001b[1;32m   4101\u001b[0m     \u001b[38;5;28;01mreturn\u001b[39;00m \u001b[38;5;28mself\u001b[39m\u001b[38;5;241m.\u001b[39m_getitem_multilevel(key)\n\u001b[0;32m-> 4102\u001b[0m indexer \u001b[38;5;241m=\u001b[39m \u001b[38;5;28mself\u001b[39m\u001b[38;5;241m.\u001b[39mcolumns\u001b[38;5;241m.\u001b[39mget_loc(key)\n\u001b[1;32m   4103\u001b[0m \u001b[38;5;28;01mif\u001b[39;00m is_integer(indexer):\n\u001b[1;32m   4104\u001b[0m     indexer \u001b[38;5;241m=\u001b[39m [indexer]\n",
      "File \u001b[0;32m/opt/anaconda3/lib/python3.12/site-packages/pandas/core/indexes/base.py:3812\u001b[0m, in \u001b[0;36mIndex.get_loc\u001b[0;34m(self, key)\u001b[0m\n\u001b[1;32m   3807\u001b[0m     \u001b[38;5;28;01mif\u001b[39;00m \u001b[38;5;28misinstance\u001b[39m(casted_key, \u001b[38;5;28mslice\u001b[39m) \u001b[38;5;129;01mor\u001b[39;00m (\n\u001b[1;32m   3808\u001b[0m         \u001b[38;5;28misinstance\u001b[39m(casted_key, abc\u001b[38;5;241m.\u001b[39mIterable)\n\u001b[1;32m   3809\u001b[0m         \u001b[38;5;129;01mand\u001b[39;00m \u001b[38;5;28many\u001b[39m(\u001b[38;5;28misinstance\u001b[39m(x, \u001b[38;5;28mslice\u001b[39m) \u001b[38;5;28;01mfor\u001b[39;00m x \u001b[38;5;129;01min\u001b[39;00m casted_key)\n\u001b[1;32m   3810\u001b[0m     ):\n\u001b[1;32m   3811\u001b[0m         \u001b[38;5;28;01mraise\u001b[39;00m InvalidIndexError(key)\n\u001b[0;32m-> 3812\u001b[0m     \u001b[38;5;28;01mraise\u001b[39;00m \u001b[38;5;167;01mKeyError\u001b[39;00m(key) \u001b[38;5;28;01mfrom\u001b[39;00m \u001b[38;5;21;01merr\u001b[39;00m\n\u001b[1;32m   3813\u001b[0m \u001b[38;5;28;01mexcept\u001b[39;00m \u001b[38;5;167;01mTypeError\u001b[39;00m:\n\u001b[1;32m   3814\u001b[0m     \u001b[38;5;66;03m# If we have a listlike key, _check_indexing_error will raise\u001b[39;00m\n\u001b[1;32m   3815\u001b[0m     \u001b[38;5;66;03m#  InvalidIndexError. Otherwise we fall through and re-raise\u001b[39;00m\n\u001b[1;32m   3816\u001b[0m     \u001b[38;5;66;03m#  the TypeError.\u001b[39;00m\n\u001b[1;32m   3817\u001b[0m     \u001b[38;5;28mself\u001b[39m\u001b[38;5;241m.\u001b[39m_check_indexing_error(key)\n",
      "\u001b[0;31mKeyError\u001b[0m: 'words'"
     ]
    }
   ],
   "source": [
    "import pandas as pd\n",
    "\n",
    "df = pd.read_csv(\"words.csv\", header=None, names=[\"words\"])\n",
    "df = df.dropna()\n",
    "\n",
    "df = df[~df[\"words\"].str.isupper()]\n",
    "df = df[df[\"words\"].str.len() >= 4]\n",
    "df = df[df[\"words\"].str.match(\"^[a-zA-Z]+$\")]\n",
    "\n",
    "def get_filtered_words(filtered_df, input_word, condition, letter_count):\n",
    "    # Apply conditions dynamically\n",
    "    for i in range(letter_count):# Loop through each letter position\n",
    "        #print(filtered_df.head())\n",
    "        if condition[i].lower() == \"g\":  # If 'G', match exact position\n",
    "            filtered_df = filtered_df[filtered_df['words'].apply(lambda x: x.lower()[i] == input_word[i].lower())]\n",
    "    \n",
    "        elif condition[i].lower() == \"y\":  # If 'Y', input_word[i] must be anywhere in x but **not at the same position**\n",
    "            filtered_df = filtered_df[\n",
    "                filtered_df['words'].apply(lambda x: input_word[i].lower() in x.lower() and x.lower()[i] != input_word[i].lower())\n",
    "            ]\n",
    "    \n",
    "        elif condition[i].lower() == \"x\":  # If 'X', input_word[i] must **not** be in x at any position\n",
    "            filtered_df = filtered_df[filtered_df['words'].apply(lambda x: input_word[i].lower() not in x.lower())]\n",
    "    return filtered_df  # Return updated dataframe\n",
    "\n",
    "# Function to take validated input\n",
    "def get_valid_input(prompt, valid_length, valid_chars=None):\n",
    "    while True:\n",
    "        user_input = input(prompt).strip()  # Remove extra spaces\n",
    "        if len(user_input) != valid_length:\n",
    "            print(f\"⚠ Error: Input must be exactly {valid_length} characters. Try again.\")\n",
    "            continue\n",
    "        if valid_chars and any(c not in valid_chars for c in user_input):\n",
    "            print(f\"⚠ Error: Invalid character found! Allowed characters: {''.join(valid_chars)}. Try again.\")\n",
    "            continue\n",
    "        return user_input  # Return valid input\n",
    "\n",
    "\n",
    "letter_count = int(input(\"Letters: \"))\n",
    "chances = int(input(\"Chances: \"))\n",
    "df = df[df[\"words\"].str.len() == letter_count]\n",
    "# Reset index\n",
    "df = df.reset_index(drop=True)\n",
    "filtered_df = df.copy()\n",
    "\n",
    "# Run the function 5 times with validated input\n",
    "for _ in range(chances):\n",
    "    user_word = get_valid_input(f\"Enter a {letter_count}-letter word: \", letter_count)  # Validate word length\n",
    "    user_condition = get_valid_input(\"Enter condition (only G, X, Y): \", letter_count, {\"G\", \"X\", \"Y\", \"g\", \"x\", \"y\"})  # Validate condition\n",
    "    filtered_df = get_filtered_words(filtered_df, user_word.lower(), user_condition, letter_count)  # Update filtered_df\n",
    "    print(f\"Remaining words: {len(filtered_df)}\")\n",
    "    print(filtered_df.sample(min(len(filtered_df), 15))) "
   ]
  },
  {
   "cell_type": "code",
   "execution_count": null,
   "id": "c098b26d-b0dc-4452-9fbc-171332dd4d60",
   "metadata": {},
   "outputs": [],
   "source": []
  },
  {
   "cell_type": "code",
   "execution_count": null,
   "id": "9b24608e-9024-463c-8e94-740d9cbd0c86",
   "metadata": {},
   "outputs": [],
   "source": []
  },
  {
   "cell_type": "code",
   "execution_count": null,
   "id": "0fba1013-8204-4319-ae5d-fc4f1a6dd5e1",
   "metadata": {},
   "outputs": [
    {
     "name": "stderr",
     "output_type": "stream",
     "text": [
      "Exception in Tkinter callback\n",
      "Traceback (most recent call last):\n",
      "  File \"/opt/anaconda3/lib/python3.12/tkinter/__init__.py\", line 1967, in __call__\n",
      "    return self.func(*args)\n",
      "           ^^^^^^^^^^^^^^^^\n",
      "  File \"/var/folders/s9/0x0wmn8j1rg6kj1_92zsq8pc0000gn/T/ipykernel_10223/266801387.py\", line 24, in start_game\n",
      "    filtered_df = df[df[\"words\"].str.len() == letter_count].copy()\n",
      "                  ^^\n",
      "NameError: name 'df' is not defined\n",
      "Exception in Tkinter callback\n",
      "Traceback (most recent call last):\n",
      "  File \"/opt/anaconda3/lib/python3.12/tkinter/__init__.py\", line 1967, in __call__\n",
      "    return self.func(*args)\n",
      "           ^^^^^^^^^^^^^^^^\n",
      "  File \"/var/folders/s9/0x0wmn8j1rg6kj1_92zsq8pc0000gn/T/ipykernel_10223/266801387.py\", line 24, in start_game\n",
      "    filtered_df = df[df[\"words\"].str.len() == letter_count].copy()\n",
      "                  ^^\n",
      "NameError: name 'df' is not defined\n"
     ]
    }
   ],
   "source": [
    "import pandas as pd\n",
    "import tkinter as tk\n",
    "from tkinter import filedialog, messagebox, scrolledtext\n",
    "\n",
    "def load_csv():\n",
    "    file_path = filedialog.askopenfilename(filetypes=[(\"CSV Files\", \"*.csv\")])\n",
    "    if file_path:\n",
    "        global df, filtered_df\n",
    "        df = pd.read_csv(file_path, header=None, names=[\"words\"])\n",
    "        df = df.dropna()\n",
    "        df = df[~df[\"words\"].str.isupper()]\n",
    "        df = df[df[\"words\"].str.len() >= 4]\n",
    "        df = df[df[\"words\"].str.match(\"^[a-zA-Z]+$\")]\n",
    "        messagebox.showinfo(\"Success\", \"CSV file loaded successfully!\")\n",
    "\n",
    "def start_game():\n",
    "    global filtered_df\n",
    "    try:\n",
    "        letter_count = int(letter_entry.get())\n",
    "        chances = int(chances_entry.get())\n",
    "        if letter_count < 4 or chances < 1:\n",
    "            raise ValueError\n",
    "        \n",
    "        filtered_df = df[df[\"words\"].str.len() == letter_count].copy()\n",
    "        filtered_df.reset_index(drop=True, inplace=True)\n",
    "        remaining_chances.set(chances)\n",
    "        output_box.delete(\"1.0\", tk.END)\n",
    "        output_box.insert(tk.END, f\"Game started! {len(filtered_df)} words loaded.\\n\")\n",
    "    except ValueError:\n",
    "        messagebox.showerror(\"Error\", \"Invalid input! Enter valid numbers for letters and chances.\")\n",
    "\n",
    "def get_filtered_words(input_word, condition):\n",
    "    global filtered_df\n",
    "    letter_count = len(input_word)\n",
    "    for i in range(letter_count):\n",
    "        if condition[i].lower() == \"g\":\n",
    "            filtered_df = filtered_df[filtered_df['words'].apply(lambda x: x.lower()[i] == input_word[i].lower())]\n",
    "        elif condition[i].lower() == \"y\":\n",
    "            filtered_df = filtered_df[\n",
    "                filtered_df['words'].apply(lambda x: input_word[i].lower() in x.lower() and x.lower()[i] != input_word[i].lower())\n",
    "            ]\n",
    "        elif condition[i].lower() == \"x\":\n",
    "            filtered_df = filtered_df[filtered_df['words'].apply(lambda x: input_word[i].lower() not in x.lower())]\n",
    "    return filtered_df\n",
    "\n",
    "def apply_filter():\n",
    "    global filtered_df\n",
    "    if remaining_chances.get() <= 0:\n",
    "        messagebox.showinfo(\"Game Over\", \"No more chances left!\")\n",
    "        return\n",
    "    \n",
    "    input_word = word_entry.get().strip()\n",
    "    condition = condition_entry.get().strip()\n",
    "    letter_count = int(letter_entry.get())\n",
    "    \n",
    "    if len(input_word) != letter_count or len(condition) != letter_count:\n",
    "        messagebox.showerror(\"Error\", \"Word and condition must match the letter count!\")\n",
    "        return\n",
    "    if not set(condition.lower()).issubset({\"g\", \"x\", \"y\"}):\n",
    "        messagebox.showerror(\"Error\", \"Condition can only contain G, X, or Y!\")\n",
    "        return\n",
    "    \n",
    "    filtered_df = get_filtered_words(input_word.lower(), condition)\n",
    "    remaining_chances.set(remaining_chances.get() - 1)\n",
    "    \n",
    "    output_box.delete(\"1.0\", tk.END)\n",
    "    output_box.insert(tk.END, f\"Remaining words: {len(filtered_df)}\\n\")\n",
    "    output_box.insert(tk.END, \"\\n\".join(filtered_df['words'].sample(min(len(filtered_df), 15)).tolist()))\n",
    "\n",
    "# GUI Setup\n",
    "root = tk.Tk()\n",
    "root.title(\"Word Filtering Game\")\n",
    "\n",
    "tk.Button(root, text=\"Load CSV\", command=load_csv).pack(pady=5)\n",
    "\n",
    "tk.Label(root, text=\"Letters:\").pack()\n",
    "letter_entry = tk.Entry(root)\n",
    "letter_entry.pack()\n",
    "\n",
    "tk.Label(root, text=\"Chances:\").pack()\n",
    "chances_entry = tk.Entry(root)\n",
    "chances_entry.pack()\n",
    "\n",
    "tk.Button(root, text=\"Start Game\", command=start_game).pack(pady=5)\n",
    "\n",
    "remaining_chances = tk.IntVar()\n",
    "\n",
    "word_frame = tk.Frame(root)\n",
    "tk.Label(word_frame, text=\"Word:\").pack(side=tk.LEFT)\n",
    "word_entry = tk.Entry(word_frame)\n",
    "word_entry.pack(side=tk.LEFT)\n",
    "word_frame.pack()\n",
    "\n",
    "tk.Label(root, text=\"Condition (G, X, Y):\").pack()\n",
    "condition_entry = tk.Entry(root)\n",
    "condition_entry.pack()\n",
    "\n",
    "tk.Button(root, text=\"Apply Filter\", command=apply_filter).pack(pady=5)\n",
    "\n",
    "output_box = scrolledtext.ScrolledText(root, width=50, height=10)\n",
    "output_box.pack()\n",
    "\n",
    "root.mainloop()\n"
   ]
  },
  {
   "cell_type": "code",
   "execution_count": null,
   "id": "fd24800a-fd9c-4c9c-8d9e-56d3fb22f6f6",
   "metadata": {},
   "outputs": [],
   "source": []
  }
 ],
 "metadata": {
  "kernelspec": {
   "display_name": "Python [conda env:base] *",
   "language": "python",
   "name": "conda-base-py"
  },
  "language_info": {
   "codemirror_mode": {
    "name": "ipython",
    "version": 3
   },
   "file_extension": ".py",
   "mimetype": "text/x-python",
   "name": "python",
   "nbconvert_exporter": "python",
   "pygments_lexer": "ipython3",
   "version": "3.12.2"
  }
 },
 "nbformat": 4,
 "nbformat_minor": 5
}
